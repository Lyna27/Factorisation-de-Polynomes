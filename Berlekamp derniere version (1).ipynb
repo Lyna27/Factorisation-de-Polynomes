{
 "cells": [
  {
   "cell_type": "code",
   "execution_count": 10,
   "id": "ce76edc1",
   "metadata": {},
   "outputs": [],
   "source": [
    "def berlekamp(f):\n",
    "\n",
    "    F = f.base_ring()\n",
    "    p = F.characteristic()\n",
    "    R = f.parent()\n",
    "    n = f.degree()\n",
    "\n",
    "    factors = []\n",
    "\n",
    "    if n <= 1:\n",
    "        return [f]\n",
    "\n",
    "    # Construction de la matrice A\n",
    "    rows = []\n",
    "    for i in range(n):\n",
    "        Ri = (x^(i*p) - x^i) % f\n",
    "        coeffs = Ri.coefficients(sparse=False)\n",
    "        coeffs += [0] * (n - len(coeffs))\n",
    "        rows.append(coeffs)\n",
    "\n",
    "    A = Matrix(F, list(map(list, zip(*rows))))  # Colonnes = coefficients des Ri\n",
    "    ker = A.right_kernel()\n",
    "    ker_basis = ker.basis()\n",
    "\n",
    "    # Si le noyau a une seule ligne : f est irréductible\n",
    "    if len(ker_basis) == 1:\n",
    "        return [f]\n",
    "    \n",
    "    # Sinon, chercher un vecteur non constant\n",
    "    for v in ker_basis[1:]:\n",
    "        V = sum(c * x^i for i, c in enumerate(v))\n",
    "        for a in F:\n",
    "            u = gcd(f, V - a)\n",
    "            if u != 1:\n",
    "                L = berlekamp(u)\n",
    "                factors += L\n",
    "    return factors\n"
   ]
  },
  {
   "cell_type": "code",
   "execution_count": 11,
   "id": "e19a2d43",
   "metadata": {},
   "outputs": [
    {
     "name": "stdout",
     "output_type": "stream",
     "text": [
      "[x^3 + x + 1, x^3 + x^2 + 1]\n"
     ]
    }
   ],
   "source": [
    "#Exemple :\n",
    "F = GF(2)\n",
    "R.<x> = PolynomialRing(F)\n",
    "f = x^6 + x^5 + x^4 + x^3 + x^2 + x + 1\n",
    "facteurs = berlekamp(f)\n",
    "print(facteurs)"
   ]
  },
  {
   "cell_type": "code",
   "execution_count": null,
   "id": "b060426c",
   "metadata": {},
   "outputs": [],
   "source": []
  }
 ],
 "metadata": {
  "kernelspec": {
   "display_name": "SageMath 9.3",
   "language": "sage",
   "name": "sagemath"
  },
  "language_info": {
   "codemirror_mode": {
    "name": "ipython",
    "version": 3
   },
   "file_extension": ".py",
   "mimetype": "text/x-python",
   "name": "python",
   "nbconvert_exporter": "python",
   "pygments_lexer": "ipython3",
   "version": "3.9.5"
  }
 },
 "nbformat": 4,
 "nbformat_minor": 5
}
