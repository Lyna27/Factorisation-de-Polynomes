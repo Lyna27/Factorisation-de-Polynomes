{
 "cells": [
  {
   "cell_type": "code",
   "execution_count": 2,
   "id": "cdf274a6",
   "metadata": {},
   "outputs": [],
   "source": [
    "#Question 1 : Pour un Polynome Reductible sur F_2\n",
    "# Initialisation\n",
    "p = 2\n",
    "Fp = GF(p)\n",
    "R.<x> = PolynomialRing(Fp)\n",
    "f = x^4 + x^2 + x + 1  # Polynôme à factoriser\n"
   ]
  },
  {
   "cell_type": "code",
   "execution_count": 3,
   "id": "db302f0c",
   "metadata": {},
   "outputs": [
    {
     "name": "stdout",
     "output_type": "stream",
     "text": [
      "PGCD(f,f')= 1\n"
     ]
    }
   ],
   "source": [
    "# Vérification que f est sans facteur carré\n",
    "assert gcd(f, f.derivative()) == 1, \"Le polynôme a des racines multiples.\"\n",
    "print(\"PGCD(f,f')=\",gcd(f, f.derivative()))\n"
   ]
  },
  {
   "cell_type": "code",
   "execution_count": 4,
   "id": "6c120946",
   "metadata": {},
   "outputs": [
    {
     "ename": "NameError",
     "evalue": "name 'coeffs' is not defined",
     "output_type": "error",
     "traceback": [
      "\u001b[0;31m---------------------------------------------------------------------------\u001b[0m",
      "\u001b[0;31mNameError\u001b[0m                                 Traceback (most recent call last)",
      "\u001b[0;32m/tmp/ipykernel_425910/1463608896.py\u001b[0m in \u001b[0;36m<module>\u001b[0;34m\u001b[0m\n\u001b[1;32m      4\u001b[0m \u001b[0mQ\u001b[0m\u001b[0;34m\u001b[0m\u001b[0;34m\u001b[0m\u001b[0m\n\u001b[1;32m      5\u001b[0m \u001b[0;32mfor\u001b[0m \u001b[0mi\u001b[0m \u001b[0;32min\u001b[0m \u001b[0mrange\u001b[0m\u001b[0;34m(\u001b[0m\u001b[0mInteger\u001b[0m\u001b[0;34m(\u001b[0m\u001b[0;36m4\u001b[0m\u001b[0;34m)\u001b[0m\u001b[0;34m)\u001b[0m\u001b[0;34m:\u001b[0m\u001b[0;34m\u001b[0m\u001b[0;34m\u001b[0m\u001b[0m\n\u001b[0;32m----> 6\u001b[0;31m     \u001b[0mQ\u001b[0m\u001b[0;34m.\u001b[0m\u001b[0mset_column\u001b[0m\u001b[0;34m(\u001b[0m\u001b[0mi\u001b[0m\u001b[0;34m,\u001b[0m \u001b[0mcoeffs\u001b[0m\u001b[0;34m)\u001b[0m\u001b[0;34m\u001b[0m\u001b[0;34m\u001b[0m\u001b[0m\n\u001b[0m\u001b[1;32m      7\u001b[0m \u001b[0mQ\u001b[0m\u001b[0;34m,\u001b[0m\u001b[0mcoeffs\u001b[0m\u001b[0;34m\u001b[0m\u001b[0;34m\u001b[0m\u001b[0m\n",
      "\u001b[0;31mNameError\u001b[0m: name 'coeffs' is not defined"
     ]
    }
   ],
   "source": [
    "# Construction de la matrice de Berlekamp Q\n",
    "n = f.degree()\n",
    "Q = matrix(Fp, n, n)\n",
    "Q\n",
    "for i in range(4):\n",
    "    Q.set_column(i, coeffs)\n",
    "Q,coeffs"
   ]
  },
  {
   "cell_type": "code",
   "execution_count": 5,
   "id": "bac8f2e3",
   "metadata": {},
   "outputs": [
    {
     "name": "stdout",
     "output_type": "stream",
     "text": [
      "[0, 1]\n",
      "[0, 1, 0, 0]\n",
      " x^p^ 0 est: x\n",
      "[0, 0, 1]\n",
      "[0, 0, 1, 0]\n",
      " x^p^ 1 est: x^2\n",
      "[1, 1, 1]\n",
      "[1, 1, 1, 0]\n",
      " x^p^ 2 est: x^2 + x + 1\n",
      "[0, 1]\n",
      "[0, 1, 0, 0]\n",
      " x^p^ 3 est: x\n",
      "La matrice Q est:\n",
      " [0 0 1 0]\n",
      "[1 0 1 1]\n",
      "[0 1 1 0]\n",
      "[0 0 0 0]\n"
     ]
    }
   ],
   "source": [
    "L=[]\n",
    "for i in range(n):\n",
    "    # Calcul de x^(2^i) mod f pour 0=<i<4 car deg(f) = 4\n",
    "    x_power = pow(x, p^i, f)\n",
    "    # Conversion en vecteur de coefficients (remplissage avec des 0 si nécessaire)\n",
    "    coeffs = x_power.coefficients(sparse=False)\n",
    "    print(coeffs)\n",
    "    if len(coeffs) < n:\n",
    "        coeffs += [0] * (n - len(coeffs))\n",
    "        print(coeffs)\n",
    "    Q.set_column(i, coeffs) \n",
    "    print(\" x^p^\",i,\"est:\",x_power)\n",
    "print(\"La matrice Q est:\\n\", Q)"
   ]
  },
  {
   "cell_type": "code",
   "execution_count": 6,
   "id": "ba23af87",
   "metadata": {},
   "outputs": [
    {
     "name": "stdout",
     "output_type": "stream",
     "text": [
      "\n",
      " Matrice B :\n",
      " [1 0 1 0]\n",
      "[1 1 1 1]\n",
      "[0 1 0 0]\n",
      "[0 0 0 1]\n"
     ]
    },
    {
     "ename": "NameError",
     "evalue": "name 'A' is not defined",
     "output_type": "error",
     "traceback": [
      "\u001b[0;31m---------------------------------------------------------------------------\u001b[0m",
      "\u001b[0;31mNameError\u001b[0m                                 Traceback (most recent call last)",
      "\u001b[0;32m/tmp/ipykernel_425910/472820510.py\u001b[0m in \u001b[0;36m<module>\u001b[0;34m\u001b[0m\n\u001b[1;32m      2\u001b[0m \u001b[0mB\u001b[0m \u001b[0;34m=\u001b[0m \u001b[0mQ\u001b[0m\u001b[0;34m-\u001b[0m \u001b[0midentity_matrix\u001b[0m\u001b[0;34m(\u001b[0m\u001b[0mFp\u001b[0m\u001b[0;34m,\u001b[0m \u001b[0mn\u001b[0m\u001b[0;34m)\u001b[0m\u001b[0;34m\u001b[0m\u001b[0;34m\u001b[0m\u001b[0m\n\u001b[1;32m      3\u001b[0m \u001b[0mprint\u001b[0m\u001b[0;34m(\u001b[0m\u001b[0;34m\"\\n Matrice B :\\n\"\u001b[0m\u001b[0;34m,\u001b[0m \u001b[0mB\u001b[0m\u001b[0;34m)\u001b[0m\u001b[0;34m\u001b[0m\u001b[0;34m\u001b[0m\u001b[0m\n\u001b[0;32m----> 4\u001b[0;31m \u001b[0mprint\u001b[0m\u001b[0;34m(\u001b[0m\u001b[0mkernel\u001b[0m\u001b[0;34m(\u001b[0m\u001b[0mA\u001b[0m\u001b[0;34m)\u001b[0m\u001b[0;34m)\u001b[0m\u001b[0;34m\u001b[0m\u001b[0;34m\u001b[0m\u001b[0m\n\u001b[0m",
      "\u001b[0;31mNameError\u001b[0m: name 'A' is not defined"
     ]
    }
   ],
   "source": [
    "# Matrice de Berlekamp B = Q - I\n",
    "B = Q- identity_matrix(Fp, n)\n",
    "print(\"\\n Matrice B :\\n\", B)\n",
    "print(kernel(A))"
   ]
  },
  {
   "cell_type": "code",
   "execution_count": 7,
   "id": "57068aa5",
   "metadata": {},
   "outputs": [
    {
     "name": "stdout",
     "output_type": "stream",
     "text": [
      "Vector space of degree 4 and dimension 1 over Finite Field of size 2\n",
      "Basis matrix:\n",
      "[1 0 1 0]\n",
      "\n",
      "Dimension du noyau : 1\n"
     ]
    }
   ],
   "source": [
    "# Calcul du noyau\n",
    "ker = B.right_kernel()\n",
    "print(ker)\n",
    "print(\"\\nDimension du noyau :\", ker.dimension())"
   ]
  },
  {
   "cell_type": "code",
   "execution_count": 8,
   "id": "ee8c7a04",
   "metadata": {},
   "outputs": [
    {
     "name": "stdout",
     "output_type": "stream",
     "text": [
      "Le polynôme x^4 + x^2 + x + 1 est irréductible.\n"
     ]
    }
   ],
   "source": [
    "# Factorisation\n",
    "if ker.dimension() == 1:\n",
    "    print(f\"Le polynôme {f} est irréductible.\")\n",
    "else:\n",
    "    print(\"Facteurs trouvés :\")\n",
    "    for v in ker.basis():\n",
    "        a = sum(v[i] * x^i for i in range(n))\n",
    "        if a != 0 and a != 1:  # Évite les polynômes triviaux\n",
    "            for s in Fq:\n",
    "                g = gcd(f, a - s)\n",
    "                if g != 1 and g != f:\n",
    "                    print(g)"
   ]
  },
  {
   "cell_type": "code",
   "execution_count": 9,
   "id": "0565c266",
   "metadata": {},
   "outputs": [
    {
     "name": "stdout",
     "output_type": "stream",
     "text": [
      "\n",
      "Validation SageMath : (x + 1) * (x^3 + x^2 + 1)\n"
     ]
    }
   ],
   "source": [
    "# Validation avec SageMath\n",
    "print(\"\\nValidation SageMath :\", f.factor())"
   ]
  },
  {
   "cell_type": "code",
   "execution_count": 10,
   "id": "dfb43668",
   "metadata": {},
   "outputs": [],
   "source": [
    "\n",
    "# la on est sensés trouver deux facteurs : (x + 1) * (x^3 + x^2 + 1)"
   ]
  },
  {
   "cell_type": "code",
   "execution_count": 36,
   "id": "3df00bd2",
   "metadata": {},
   "outputs": [],
   "source": [
    "def berlekamp(f): #entree: poly f sans facteur carre\n",
    "    factors=[]\n",
    "    n=f.degree()\n",
    "    A=matrix(Fp, n, n)\n",
    "    for i in range(n):\n",
    "        # Calcul de x^(2^i) mod f pour 0=<i<4 car deg(f) = 4\n",
    "        x_power = pow(x, p*i, f) #x puiss p^i mod f        \n",
    "        #x_p=(x^(i*p))-x^i\n",
    "        x_p1=pow(x,i,f)\n",
    "        X=(x_power-x_p1)%f\n",
    "        coeffs = X.coefficients(sparse=False)\n",
    "        \n",
    "        if len(coeffs) < n:\n",
    "            coeffs += [0] * (n-len(coeffs))\n",
    "        A.set_column(i, coeffs) \n",
    "        \n",
    "    print(\"A\",A)\n",
    "    B = A- identity_matrix(F, n)\n",
    "    I=identity_matrix(F, n)\n",
    "    W=B-I\n",
    "    M=W.right_kernel()\n",
    "    print(M)\n",
    "    print(dimension(M))\n",
    "    \n",
    "    if M.dimension()==1:\n",
    "        print(f\"Le polynôme {f} est irréductible.\")\n",
    "        factors.append(f)\n",
    "        return(factors)\n",
    "    else:\n",
    "        print(M[2])\n",
    "        v=M[2]\n",
    "        v=vector(v)\n",
    "        V=sum((x^i*int(v[i])) for i in range(len(v)))\n",
    "        \n",
    "        for a in Fp:\n",
    "            u=gcd(f, V - a)\n",
    "            if u!=1:\n",
    "                L=berlekamp(u)\n",
    "                factors.append(L)\n",
    "                \n",
    "    return(factors)\n",
    "    \n",
    "        \n",
    "    "
   ]
  },
  {
   "cell_type": "code",
   "execution_count": 39,
   "id": "362c08b0",
   "metadata": {},
   "outputs": [
    {
     "data": {
      "text/plain": [
       "(1,)"
      ]
     },
     "execution_count": 39,
     "metadata": {},
     "output_type": "execute_result"
    }
   ],
   "source": [
    "p = 2\n",
    "F = GF(p)\n",
    "R.<x> = PolynomialRing(F)\n",
    "F.gens()"
   ]
  },
  {
   "cell_type": "code",
   "execution_count": null,
   "id": "a1773078",
   "metadata": {},
   "outputs": [],
   "source": [
    "berlekamp(f)"
   ]
  },
  {
   "cell_type": "code",
   "execution_count": null,
   "id": "0a8e89df",
   "metadata": {},
   "outputs": [],
   "source": [
    "T.reverse()"
   ]
  }
 ],
 "metadata": {
  "kernelspec": {
   "display_name": "SageMath 9.5",
   "language": "sage",
   "name": "sagemath"
  },
  "language_info": {
   "codemirror_mode": {
    "name": "ipython",
    "version": 3
   },
   "file_extension": ".py",
   "mimetype": "text/x-python",
   "name": "python",
   "nbconvert_exporter": "python",
   "pygments_lexer": "ipython3",
   "version": "3.10.12"
  }
 },
 "nbformat": 4,
 "nbformat_minor": 5
}
