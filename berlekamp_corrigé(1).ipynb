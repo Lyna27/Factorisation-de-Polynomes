{
 "cells": [
  {
   "cell_type": "code",
   "execution_count": 23,
   "id": "d8a5ee96",
   "metadata": {},
   "outputs": [
    {
     "name": "stdout",
     "output_type": "stream",
     "text": [
      "Ker [1 0 0 0 0 0]\n",
      "[0 1 0 0 0 1]\n",
      "v (0, 1, 0, 0, 0, 1)\n",
      "V x^5 + x\n",
      "u x^4 + 1\n",
      "p 2\n",
      "Ker [1 0 0 0]\n",
      "Ker [1 0]\n",
      "[x^4 + 1, x^2 + x + 1]\n",
      "Ker [1 0]\n",
      "[x^2 + x + 1]\n"
     ]
    }
   ],
   "source": [
    "def berlekamp_algorithm(f, p):\n",
    "    F = GF(p)\n",
    "    R.<x> = PolynomialRing(F)\n",
    "    f = R(f)\n",
    "    n = f.degree()\n",
    "\n",
    "    if n <= 1:\n",
    "        return [f]\n",
    "\n",
    "    # Construction de la matrice de Berlekamp\n",
    "    rows = []\n",
    "    for i in range(n):\n",
    "        Ri = (x^(i*p) - x^i) % f\n",
    "        coeffs = Ri.coefficients(sparse=False)\n",
    "        coeffs += [0] * (n - len(coeffs))\n",
    "        rows.append(coeffs)\n",
    "\n",
    "    A = Matrix(F, list(map(list, zip(*rows))))  # Transposée pour avoir les bonnes colonnes\n",
    "    ker = A.right_kernel()\n",
    "    Ker=ker.matrix()\n",
    "    print(\"Ker\",Ker)\n",
    "\n",
    "    if Ker.dimensions()[0] == 1:\n",
    "        return [f]\n",
    "\n",
    "    # On essaie tous les vecteurs non constants\n",
    "    else:\n",
    "        for v in Ker[1:]:\n",
    "            print(\"v\",v)\n",
    "            V = sum(c * x^i for i, c in enumerate(v))\n",
    "            print(\"V\",V)\n",
    "            for a in F:\n",
    "                u = gcd(f, V - a)\n",
    "                print(\"u\",u)\n",
    "                print(\"p\",p)\n",
    "                if u != 1 and u != f:\n",
    "                    return berlekamp_algorithm(u, p) + berlekamp_algorithm(f // u, p)\n",
    "\n",
    "    return [f]  # Cas où f est irréductible (non géré par Berlekamp)\n",
    "\n",
    "#Polynome réductible sur F_2\n",
    "f = x^6 + x^5 + x^4 + x^2 + x + 1\n",
    "print(berlekamp_algorithm(f, 2))\n",
    "\n",
    "#Polynome irréductible sur F_2\n",
    "f = x^2 + x + 1\n",
    "print(berlekamp_algorithm(f, 2))"
   ]
  },
  {
   "cell_type": "code",
   "execution_count": null,
   "id": "2528b5e3",
   "metadata": {},
   "outputs": [],
   "source": []
  }
 ],
 "metadata": {
  "kernelspec": {
   "display_name": "SageMath 9.5",
   "language": "sage",
   "name": "sagemath"
  },
  "language_info": {
   "codemirror_mode": {
    "name": "ipython",
    "version": 3
   },
   "file_extension": ".py",
   "mimetype": "text/x-python",
   "name": "python",
   "nbconvert_exporter": "python",
   "pygments_lexer": "ipython3",
   "version": "3.10.12"
  }
 },
 "nbformat": 4,
 "nbformat_minor": 5
}
