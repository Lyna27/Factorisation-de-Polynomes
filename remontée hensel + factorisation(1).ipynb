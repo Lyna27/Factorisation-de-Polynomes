{
 "cells": [
  {
   "cell_type": "code",
   "execution_count": null,
   "id": "fe2675bb",
   "metadata": {},
   "outputs": [],
   "source": [
    "def hensel_lift(f, Gk, Hk, p, k):\n",
    "    Zpk.<x> = PolynomialRing(Zmod(p^(k+1)))\n",
    "    f_lift = Zpk(f)\n",
    "    Gk_lift = Zpk(Gk)\n",
    "    Hk_lift = Zpk(Hk)\n",
    "    \n",
    "    # Bézout mod p (calculé dans F_p[X])\n",
    "    Fp = GF(p)\n",
    "    Rp.<x> = PolynomialRing(Fp)\n",
    "    G0 = Rp(Gk)\n",
    "    H0 = Rp(Hk)\n",
    "    U, V, _ = xgcd(G0, H0)  # U*G0 + V*H0 = 1 mod p\n",
    "    \n",
    "    # Correction\n",
    "    E = (f_lift - Gk_lift * Hk_lift) // p^k\n",
    "    Gk1 = Gk_lift + p^k * Zpk(U) * Zpk(E)\n",
    "    Hk1 = Hk_lift + p^k * Zpk(V) * Zpk(E)\n",
    "    \n",
    "    return Gk1, Hk1\n",
    "\n",
    "# Application à\n",
    "f = x^6 + x^5 + x^4 + x^2 + x + 1\n",
    "p = 2\n",
    "k = 1\n",
    "G1 = x^3 + x + 1\n",
    "H1 = x^3 + x^2 + 1\n",
    "\n",
    "G2, H2 = hensel_lift(f, G1, H1, p, k)\n",
    "print(\"G2 =\", G2)\n",
    "print(\"H2 =\", H2)"
   ]
  },
  {
   "cell_type": "code",
   "execution_count": 112,
   "id": "92cc70ef",
   "metadata": {},
   "outputs": [],
   "source": [
    "def factorize_in_Z(P):\n",
    "    #P = P.primitive_part()  # Rendre P primitif\n",
    "    if P.is_squarefree() is False:\n",
    "        print(\"Attention : P a des facteurs multiples !\")\n",
    "        return None\n",
    "    \n",
    "    # Choix de p (premier ne divisant pas Res(P, P'))\n",
    "    p = 2\n",
    "    while P.discriminant() % p == 0:\n",
    "        p = next_prime(p)\n",
    "    print(\"p\",p)\n",
    "    \n",
    "    # Factorisation mod p avec Berlekamp\n",
    "    Fp = GF(p)\n",
    "    Rp.<x> = PolynomialRing(Fp)\n",
    "    Pf = Rp(P)\n",
    "    factors_mod_p = [f[0] for f in Pf.factor()]\n",
    "    print(\"factor\",factors_mod_p)\n",
    "    \n",
    "    if len(factors_mod_p) == 1:\n",
    "        return [P]  # Irréductible\n",
    "    \n",
    "    \n",
    "    else:\n",
    "        for I in subsets(range(len(factors_mod_p))):\n",
    "            if not I: continue\n",
    "            Zx.<x> = ZZ[]\n",
    "            G1 = prod(factors_mod_p[i] for i in I)\n",
    "            divise=P%G1.change_ring(ZZ)\n",
    "            #print(\"p%g1\",divise)\n",
    "            \n",
    "            if divise==0:\n",
    "                print(G1,\"est irréductible\")\n",
    "                return(G1)\n",
    "        \n",
    "        # Remontée de Hensel\n",
    "        #k = 1\n",
    "        #Gk = G1.change_ring(ZZ)\n",
    "        #Hk = H1.change_ring(ZZ)\n",
    "        \"\"\"\n",
    "        \n",
    "        while p^k <= 2 * height_bound(P):\n",
    "            Gk, Hk = hensel_lift(P, Gk, Hk, p, k)\n",
    "            k += 1\n",
    "        \n",
    "        # Vérifier si Gk divise P dans ℤ[X]\n",
    "        Gk = Gk.change_ring(ZZ)\n",
    "        if P % Gk == 0:\n",
    "            return [Gk, P // Gk]\n",
    "        \"\"\"\n",
    "    \n",
    "    return [P]  # Irréductible"
   ]
  },
  {
   "cell_type": "code",
   "execution_count": null,
   "id": "edf20c5c",
   "metadata": {},
   "outputs": [],
   "source": []
  },
  {
   "cell_type": "code",
   "execution_count": 113,
   "id": "d3739c8d",
   "metadata": {},
   "outputs": [
    {
     "name": "stdout",
     "output_type": "stream",
     "text": [
      "p 5\n",
      "factor [x^2 + 2, x^2 + 3, x^2 + x + 1]\n",
      "x^4 + 1 est irréductible\n",
      "x^4 + 1\n",
      "p 5\n",
      "factor [x^2 + 2, x^2 + 3, x^2 + x + 1]\n",
      "x^4 + 1 est irréductible\n"
     ]
    },
    {
     "data": {
      "text/plain": [
       "x^4 + 1"
      ]
     },
     "execution_count": 113,
     "metadata": {},
     "output_type": "execute_result"
    }
   ],
   "source": [
    "Zx.<x> = ZZ[]\n",
    "f = x^6 + x^5 + x^4 + x^2 + x + 1\n",
    "print(factorize_in_Z(f))\n",
    "G1=(factorize_in_Z(f))\n",
    "G1"
   ]
  },
  {
   "cell_type": "code",
   "execution_count": 106,
   "id": "c1d4e13b",
   "metadata": {
    "scrolled": true
   },
   "outputs": [
    {
     "name": "stdout",
     "output_type": "stream",
     "text": [
      "0\n"
     ]
    },
    {
     "data": {
      "text/plain": [
       "0"
      ]
     },
     "execution_count": 106,
     "metadata": {},
     "output_type": "execute_result"
    }
   ],
   "source": [
    "f*(x^2 + 2)+(f%(x^2 + 2))\n",
    "print(f%(G1))\n",
    "f%(x^4+1)"
   ]
  },
  {
   "cell_type": "code",
   "execution_count": null,
   "id": "d71dc581",
   "metadata": {},
   "outputs": [],
   "source": []
  }
 ],
 "metadata": {
  "kernelspec": {
   "display_name": "SageMath 9.5",
   "language": "sage",
   "name": "sagemath"
  },
  "language_info": {
   "codemirror_mode": {
    "name": "ipython",
    "version": 3
   },
   "file_extension": ".py",
   "mimetype": "text/x-python",
   "name": "python",
   "nbconvert_exporter": "python",
   "pygments_lexer": "ipython3",
   "version": "3.10.12"
  }
 },
 "nbformat": 4,
 "nbformat_minor": 5
}
