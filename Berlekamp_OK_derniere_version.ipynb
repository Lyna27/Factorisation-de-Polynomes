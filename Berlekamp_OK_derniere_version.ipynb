{
 "cells": [
  {
   "cell_type": "code",
   "execution_count": 44,
   "id": "ce76edc1",
   "metadata": {},
   "outputs": [],
   "source": [
    "def Berlekamp(f):\n",
    "\n",
    "    F = f.base_ring()\n",
    "    p = F.characteristic()\n",
    "    R = f.parent()\n",
    "    n = f.degree()\n",
    "\n",
    "    Factors = []\n",
    "\n",
    "    if n <= 1:\n",
    "        return [f]\n",
    "\n",
    "    # Construction de la matrice A\n",
    "    rows = []\n",
    "    for i in range(n):\n",
    "        Ri = (x^(i*p) - x^i) % f\n",
    "        coeffs = Ri.coefficients(sparse=False)\n",
    "        if len(coeffs) < n:\n",
    "            coeffs += [0] * (n - len(coeffs))\n",
    "        rows.append(coeffs)\n",
    "\n",
    "    A = Matrix(F, list(map(list, zip(*rows))))  # Colonnes = coefficients des Ri\n",
    "    ker = A.right_kernel()\n",
    "    ker_basis = ker.basis()\n",
    "\n",
    "    # Si le noyau a une seule ligne : f est irréductible\n",
    "    if len(ker_basis) == 1:\n",
    "        #return [f]\n",
    "        Factors += [f]\n",
    "    \n",
    "    # Sinon, chercher un vecteur non constant\n",
    "    else:\n",
    "        #for v in ker_basis[1:]:\n",
    "           # print(\"v\",v)\n",
    "        v=ker_basis[1]\n",
    "        print(\"v\",v)\n",
    "        V = sum(c * x^i for i, c in enumerate(v))\n",
    "        for a in F:\n",
    "            u = gcd(f, V - a)\n",
    "            if u != 1:\n",
    "                L = Berlekamp(u)\n",
    "                Factors += L\n",
    "    return Factors\n"
   ]
  },
  {
   "cell_type": "code",
   "execution_count": 53,
   "id": "e19a2d43",
   "metadata": {},
   "outputs": [
    {
     "name": "stdout",
     "output_type": "stream",
     "text": [
      "v (0, 0, 0, 1, 0, 1, 1, 0)\n",
      "v (0, 0, 1, 1, 0)\n",
      "[x^2, x^3 + x^2 + 1, x^3 + x + 1]\n"
     ]
    }
   ],
   "source": [
    "#Exemple :\n",
    "F = GF(2)\n",
    "R.<x> = PolynomialRing(F)\n",
    "f = x^8+x^7-3*x^6+ x^5 + x^4 + x^3 + x^2 -2* x + 4\n",
    "facteurs = Berlekamp(f)\n",
    "print(facteurs)"
   ]
  },
  {
   "cell_type": "code",
   "execution_count": 54,
   "id": "b060426c",
   "metadata": {},
   "outputs": [
    {
     "data": {
      "text/plain": [
       "x^2 * (x^3 + x + 1) * (x^3 + x^2 + 1)"
      ]
     },
     "execution_count": 54,
     "metadata": {},
     "output_type": "execute_result"
    }
   ],
   "source": [
    "f.factor()"
   ]
  },
  {
   "cell_type": "code",
   "execution_count": 48,
   "id": "5e735416",
   "metadata": {},
   "outputs": [
    {
     "data": {
      "text/plain": [
       "x^4 + x^2 + 1"
      ]
     },
     "execution_count": 48,
     "metadata": {},
     "output_type": "execute_result"
    }
   ],
   "source": [
    "(x^2 + x + 1)^2"
   ]
  },
  {
   "cell_type": "code",
   "execution_count": null,
   "id": "f247f396",
   "metadata": {},
   "outputs": [],
   "source": []
  }
 ],
 "metadata": {
  "kernelspec": {
   "display_name": "SageMath 9.5",
   "language": "sage",
   "name": "sagemath"
  },
  "language_info": {
   "codemirror_mode": {
    "name": "ipython",
    "version": 3
   },
   "file_extension": ".py",
   "mimetype": "text/x-python",
   "name": "python",
   "nbconvert_exporter": "python",
   "pygments_lexer": "ipython3",
   "version": "3.10.12"
  }
 },
 "nbformat": 4,
 "nbformat_minor": 5
}
