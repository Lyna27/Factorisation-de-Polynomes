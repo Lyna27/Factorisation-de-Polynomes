{
 "cells": [
  {
   "cell_type": "code",
   "execution_count": 1,
   "id": "fe2675bb",
   "metadata": {},
   "outputs": [
    {
     "ename": "NameError",
     "evalue": "name 'f' is not defined",
     "output_type": "error",
     "traceback": [
      "\u001b[0;31m---------------------------------------------------------------------------\u001b[0m",
      "\u001b[0;31mNameError\u001b[0m                                 Traceback (most recent call last)",
      "\u001b[0;32m<ipython-input-1-8bb7fd0651e0>\u001b[0m in \u001b[0;36m<module>\u001b[0;34m\u001b[0m\n\u001b[1;32m     25\u001b[0m \u001b[0mH1\u001b[0m \u001b[0;34m=\u001b[0m \u001b[0mx\u001b[0m\u001b[0;34m**\u001b[0m\u001b[0mInteger\u001b[0m\u001b[0;34m(\u001b[0m\u001b[0;36m3\u001b[0m\u001b[0;34m)\u001b[0m \u001b[0;34m+\u001b[0m \u001b[0mx\u001b[0m\u001b[0;34m**\u001b[0m\u001b[0mInteger\u001b[0m\u001b[0;34m(\u001b[0m\u001b[0;36m2\u001b[0m\u001b[0;34m)\u001b[0m \u001b[0;34m+\u001b[0m \u001b[0mInteger\u001b[0m\u001b[0;34m(\u001b[0m\u001b[0;36m1\u001b[0m\u001b[0;34m)\u001b[0m\u001b[0;34m\u001b[0m\u001b[0;34m\u001b[0m\u001b[0m\n\u001b[1;32m     26\u001b[0m \u001b[0;34m\u001b[0m\u001b[0m\n\u001b[0;32m---> 27\u001b[0;31m \u001b[0mG2\u001b[0m\u001b[0;34m,\u001b[0m \u001b[0mH2\u001b[0m \u001b[0;34m=\u001b[0m \u001b[0mhensel_lift\u001b[0m\u001b[0;34m(\u001b[0m\u001b[0mf\u001b[0m\u001b[0;34m,\u001b[0m \u001b[0mG1\u001b[0m\u001b[0;34m,\u001b[0m \u001b[0mH1\u001b[0m\u001b[0;34m,\u001b[0m \u001b[0mp\u001b[0m\u001b[0;34m,\u001b[0m \u001b[0mk\u001b[0m\u001b[0;34m)\u001b[0m\u001b[0;34m\u001b[0m\u001b[0;34m\u001b[0m\u001b[0m\n\u001b[0m\u001b[1;32m     28\u001b[0m \u001b[0mprint\u001b[0m\u001b[0;34m(\u001b[0m\u001b[0;34m\"G2 =\"\u001b[0m\u001b[0;34m,\u001b[0m \u001b[0mG2\u001b[0m\u001b[0;34m)\u001b[0m\u001b[0;34m\u001b[0m\u001b[0;34m\u001b[0m\u001b[0m\n\u001b[1;32m     29\u001b[0m \u001b[0mprint\u001b[0m\u001b[0;34m(\u001b[0m\u001b[0;34m\"H2 =\"\u001b[0m\u001b[0;34m,\u001b[0m \u001b[0mH2\u001b[0m\u001b[0;34m)\u001b[0m\u001b[0;34m\u001b[0m\u001b[0;34m\u001b[0m\u001b[0m\n",
      "\u001b[0;31mNameError\u001b[0m: name 'f' is not defined"
     ]
    }
   ],
   "source": [
    "def hensel_lift(f, Gk, Hk, p, k):\n",
    "    Zpk.<x> = PolynomialRing(Zmod(p^(k+1)))\n",
    "    f_lift = Zpk(f)\n",
    "    Gk_lift = Zpk(Gk)\n",
    "    Hk_lift = Zpk(Hk)\n",
    "    \n",
    "    # Bézout mod p (calculé dans F_p[X])\n",
    "    Fp = GF(p)\n",
    "    Rp.<x> = PolynomialRing(Fp)\n",
    "    G0 = Rp(Gk)\n",
    "    H0 = Rp(Hk)\n",
    "    U, V, _ = xgcd(G0, H0)  # U*G0 + V*H0 = 1 mod p\n",
    "    \n",
    "    # Correction\n",
    "    E = (f_lift - Gk_lift * Hk_lift) // p^k\n",
    "    Gk1 = Gk_lift + p^k * Zpk(U) * Zpk(E)\n",
    "    Hk1 = Hk_lift + p^k * Zpk(V) * Zpk(E)\n",
    "    \n",
    "    return Gk1, Hk1\n",
    "\n",
    "# Application à f = x^6 + x^5 + x^4 + x^2 + x + 1\n",
    "p = 2\n",
    "k = 1\n",
    "G1 = x^3 + x + 1\n",
    "H1 = x^3 + x^2 + 1\n",
    "\n",
    "G2, H2 = hensel_lift(f, G1, H1, p, k)\n",
    "print(\"G2 =\", G2)\n",
    "print(\"H2 =\", H2)"
   ]
  },
  {
   "cell_type": "code",
   "execution_count": 2,
   "id": "92cc70ef",
   "metadata": {},
   "outputs": [],
   "source": [
    "def factorize_in_Z(P):\n",
    "    P = P.primitive_part()  # Rendre P primitif\n",
    "    if P.is_squarefree() is False:\n",
    "        print(\"Attention : P a des facteurs multiples !\")\n",
    "        return None\n",
    "    \n",
    "    # Choix de p (premier ne divisant pas Res(P, P'))\n",
    "    p = 2\n",
    "    while P.discriminant() % p == 0:\n",
    "        p = next_prime(p)\n",
    "    \n",
    "    # Factorisation mod p avec Berlekamp\n",
    "    Fp = GF(p)\n",
    "    Rp.<x> = PolynomialRing(Fp)\n",
    "    Pf = Rp(P)\n",
    "    factors_mod_p = [f[0] for f in Pf.factor()]\n",
    "    \n",
    "    if len(factors_mod_p) == 1:\n",
    "        return [P]  # Irréductible\n",
    "    \n",
    "    # Essayer toutes les combinaisons de facteurs\n",
    "    for I in subsets(range(len(factors_mod_p))):\n",
    "        if not I: continue\n",
    "        G1 = prod(factors_mod_p[i] for i in I)\n",
    "        H1 = prod(factors_mod_p[i] for i in range(len(factors_mod_p)) if i not in I)\n",
    "        \n",
    "        # Remontée de Hensel\n",
    "        k = 1\n",
    "        Gk = G1.change_ring(ZZ)\n",
    "        Hk = H1.change_ring(ZZ)\n",
    "        while p^k <= 2 * height_bound(P):\n",
    "            Gk, Hk = hensel_lift(P, Gk, Hk, p, k)\n",
    "            k += 1\n",
    "        \n",
    "        # Vérifier si Gk divise P dans ℤ[X]\n",
    "        Gk = Gk.change_ring(ZZ)\n",
    "        if P % Gk == 0:\n",
    "            return [Gk, P // Gk]\n",
    "    \n",
    "    return [P]  # Irréductible"
   ]
  },
  {
   "cell_type": "code",
   "execution_count": null,
   "id": "2cf5c0ce",
   "metadata": {},
   "outputs": [],
   "source": []
  }
 ],
 "metadata": {
  "kernelspec": {
   "display_name": "SageMath 9.3",
   "language": "sage",
   "name": "sagemath"
  },
  "language_info": {
   "codemirror_mode": {
    "name": "ipython",
    "version": 3
   },
   "file_extension": ".py",
   "mimetype": "text/x-python",
   "name": "python",
   "nbconvert_exporter": "python",
   "pygments_lexer": "ipython3",
   "version": "3.9.5"
  }
 },
 "nbformat": 4,
 "nbformat_minor": 5
}
